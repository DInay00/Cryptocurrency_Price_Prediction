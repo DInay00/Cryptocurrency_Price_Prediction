{
 "cells": [
  {
   "cell_type": "code",
   "execution_count": 1,
   "metadata": {},
   "outputs": [],
   "source": [
    "# pip install ipynb"
   ]
  },
  {
   "cell_type": "code",
   "execution_count": 2,
   "metadata": {},
   "outputs": [],
   "source": [
    "from ipynb.fs.full.Implementation_of_strategies import Permanent_purchase_week\n",
    "from ipynb.fs.full.Implementation_of_strategies import Permanent_purchase_day"
   ]
  },
  {
   "cell_type": "code",
   "execution_count": 3,
   "metadata": {},
   "outputs": [],
   "source": [
    "start_time = \"1 Jan, 2021\"\n",
    "end_time = \"31 Jul, 2023\""
   ]
  },
  {
   "cell_type": "code",
   "execution_count": 4,
   "metadata": {},
   "outputs": [],
   "source": [
    "Permanent_week = Permanent_purchase_week(start_time, end_time)\n",
    "df_week = Permanent_week[0]"
   ]
  },
  {
   "cell_type": "code",
   "execution_count": 5,
   "metadata": {},
   "outputs": [
    {
     "data": {
      "text/html": [
       "<div>\n",
       "<style scoped>\n",
       "    .dataframe tbody tr th:only-of-type {\n",
       "        vertical-align: middle;\n",
       "    }\n",
       "\n",
       "    .dataframe tbody tr th {\n",
       "        vertical-align: top;\n",
       "    }\n",
       "\n",
       "    .dataframe thead th {\n",
       "        text-align: right;\n",
       "    }\n",
       "</style>\n",
       "<table border=\"1\" class=\"dataframe\">\n",
       "  <thead>\n",
       "    <tr style=\"text-align: right;\">\n",
       "      <th></th>\n",
       "      <th>High_btc</th>\n",
       "      <th>date</th>\n",
       "      <th>High_usdt</th>\n",
       "      <th>bitcoins_received</th>\n",
       "      <th>Sum of bitcoins</th>\n",
       "      <th>spent_rub</th>\n",
       "      <th>received_rub</th>\n",
       "    </tr>\n",
       "  </thead>\n",
       "  <tbody>\n",
       "    <tr>\n",
       "      <th>0</th>\n",
       "      <td>41950.00</td>\n",
       "      <td>2021-01-04</td>\n",
       "      <td>73.731</td>\n",
       "      <td>0.000024</td>\n",
       "      <td>0.000000</td>\n",
       "      <td>0.000</td>\n",
       "      <td>0.000000</td>\n",
       "    </tr>\n",
       "    <tr>\n",
       "      <th>1</th>\n",
       "      <td>40100.00</td>\n",
       "      <td>2021-01-11</td>\n",
       "      <td>73.568</td>\n",
       "      <td>0.000025</td>\n",
       "      <td>0.000024</td>\n",
       "      <td>73.731</td>\n",
       "      <td>70.323642</td>\n",
       "    </tr>\n",
       "    <tr>\n",
       "      <th>2</th>\n",
       "      <td>37850.00</td>\n",
       "      <td>2021-01-18</td>\n",
       "      <td>74.859</td>\n",
       "      <td>0.000026</td>\n",
       "      <td>0.000049</td>\n",
       "      <td>147.299</td>\n",
       "      <td>138.201308</td>\n",
       "    </tr>\n",
       "    <tr>\n",
       "      <th>3</th>\n",
       "      <td>38531.90</td>\n",
       "      <td>2021-01-25</td>\n",
       "      <td>75.824</td>\n",
       "      <td>0.000026</td>\n",
       "      <td>0.000075</td>\n",
       "      <td>222.158</td>\n",
       "      <td>219.694791</td>\n",
       "    </tr>\n",
       "    <tr>\n",
       "      <th>4</th>\n",
       "      <td>40955.51</td>\n",
       "      <td>2021-02-01</td>\n",
       "      <td>75.647</td>\n",
       "      <td>0.000024</td>\n",
       "      <td>0.000101</td>\n",
       "      <td>297.982</td>\n",
       "      <td>313.373331</td>\n",
       "    </tr>\n",
       "    <tr>\n",
       "      <th>...</th>\n",
       "      <td>...</td>\n",
       "      <td>...</td>\n",
       "      <td>...</td>\n",
       "      <td>...</td>\n",
       "      <td>...</td>\n",
       "      <td>...</td>\n",
       "      <td>...</td>\n",
       "    </tr>\n",
       "    <tr>\n",
       "      <th>130</th>\n",
       "      <td>31500.00</td>\n",
       "      <td>2023-07-03</td>\n",
       "      <td>93.790</td>\n",
       "      <td>0.000032</td>\n",
       "      <td>0.004014</td>\n",
       "      <td>9746.348</td>\n",
       "      <td>11859.368137</td>\n",
       "    </tr>\n",
       "    <tr>\n",
       "      <th>131</th>\n",
       "      <td>31804.20</td>\n",
       "      <td>2023-07-10</td>\n",
       "      <td>92.010</td>\n",
       "      <td>0.000031</td>\n",
       "      <td>0.004046</td>\n",
       "      <td>9840.138</td>\n",
       "      <td>11839.546894</td>\n",
       "    </tr>\n",
       "    <tr>\n",
       "      <th>132</th>\n",
       "      <td>30417.46</td>\n",
       "      <td>2023-07-17</td>\n",
       "      <td>91.750</td>\n",
       "      <td>0.000033</td>\n",
       "      <td>0.004077</td>\n",
       "      <td>9932.148</td>\n",
       "      <td>11379.066316</td>\n",
       "    </tr>\n",
       "    <tr>\n",
       "      <th>133</th>\n",
       "      <td>30099.58</td>\n",
       "      <td>2023-07-24</td>\n",
       "      <td>92.500</td>\n",
       "      <td>0.000033</td>\n",
       "      <td>0.004110</td>\n",
       "      <td>10023.898</td>\n",
       "      <td>11443.726643</td>\n",
       "    </tr>\n",
       "    <tr>\n",
       "      <th>134</th>\n",
       "      <td>30047.50</td>\n",
       "      <td>2023-07-31</td>\n",
       "      <td>96.070</td>\n",
       "      <td>0.000033</td>\n",
       "      <td>0.004143</td>\n",
       "      <td>10116.398</td>\n",
       "      <td>11960.731627</td>\n",
       "    </tr>\n",
       "  </tbody>\n",
       "</table>\n",
       "<p>135 rows × 7 columns</p>\n",
       "</div>"
      ],
      "text/plain": [
       "     High_btc       date  High_usdt  bitcoins_received  Sum of bitcoins  \\\n",
       "0    41950.00 2021-01-04     73.731           0.000024         0.000000   \n",
       "1    40100.00 2021-01-11     73.568           0.000025         0.000024   \n",
       "2    37850.00 2021-01-18     74.859           0.000026         0.000049   \n",
       "3    38531.90 2021-01-25     75.824           0.000026         0.000075   \n",
       "4    40955.51 2021-02-01     75.647           0.000024         0.000101   \n",
       "..        ...        ...        ...                ...              ...   \n",
       "130  31500.00 2023-07-03     93.790           0.000032         0.004014   \n",
       "131  31804.20 2023-07-10     92.010           0.000031         0.004046   \n",
       "132  30417.46 2023-07-17     91.750           0.000033         0.004077   \n",
       "133  30099.58 2023-07-24     92.500           0.000033         0.004110   \n",
       "134  30047.50 2023-07-31     96.070           0.000033         0.004143   \n",
       "\n",
       "     spent_rub  received_rub  \n",
       "0        0.000      0.000000  \n",
       "1       73.731     70.323642  \n",
       "2      147.299    138.201308  \n",
       "3      222.158    219.694791  \n",
       "4      297.982    313.373331  \n",
       "..         ...           ...  \n",
       "130   9746.348  11859.368137  \n",
       "131   9840.138  11839.546894  \n",
       "132   9932.148  11379.066316  \n",
       "133  10023.898  11443.726643  \n",
       "134  10116.398  11960.731627  \n",
       "\n",
       "[135 rows x 7 columns]"
      ]
     },
     "execution_count": 5,
     "metadata": {},
     "output_type": "execute_result"
    }
   ],
   "source": [
    "df_week"
   ]
  },
  {
   "cell_type": "code",
   "execution_count": 12,
   "metadata": {},
   "outputs": [
    {
     "ename": "NameError",
     "evalue": "name 'Permanent_week' is not defined",
     "output_type": "error",
     "traceback": [
      "\u001b[1;31m---------------------------------------------------------------------------\u001b[0m",
      "\u001b[1;31mNameError\u001b[0m                                 Traceback (most recent call last)",
      "\u001b[1;32m<ipython-input-12-176096745036>\u001b[0m in \u001b[0;36m<module>\u001b[1;34m\u001b[0m\n\u001b[0;32m      1\u001b[0m print(\"Получено рублей: \" + str(Permanent_week[1]) \n\u001b[1;32m----> 2\u001b[1;33m       + \"\\nРост составил: \" + str(round(Permanent_week[2], 2)*100) + \"%\")\n\u001b[0m",
      "\u001b[1;31mNameError\u001b[0m: name 'Permanent_week' is not defined"
     ]
    }
   ],
   "source": [
    "print(\"Получено рублей: \" + str(Permanent_week[1]) \n",
    "      + \"\\nРост составил: \" + str(round(Permanent_week[2], 2)*100) + \"%\")"
   ]
  },
  {
   "cell_type": "code",
   "execution_count": null,
   "metadata": {},
   "outputs": [],
   "source": [
    "Permanent_day = Permanent_purchase_day(start_time, end_time)\n",
    "df_day = Permanent_day[0]"
   ]
  },
  {
   "cell_type": "code",
   "execution_count": null,
   "metadata": {},
   "outputs": [],
   "source": [
    "df_day"
   ]
  },
  {
   "cell_type": "code",
   "execution_count": null,
   "metadata": {},
   "outputs": [],
   "source": [
    "print(\"Получено рублей: \" + str(Permanent_day[1]) \n",
    "      + \"\\nРост составил: \" + str(round(Permanent_day[2], 2)*100) + \"%\")"
   ]
  }
 ],
 "metadata": {
  "kernelspec": {
   "display_name": "Python 3",
   "language": "python",
   "name": "python3"
  },
  "language_info": {
   "codemirror_mode": {
    "name": "ipython",
    "version": 3
   },
   "file_extension": ".py",
   "mimetype": "text/x-python",
   "name": "python",
   "nbconvert_exporter": "python",
   "pygments_lexer": "ipython3",
   "version": "3.7.7"
  }
 },
 "nbformat": 4,
 "nbformat_minor": 4
}
